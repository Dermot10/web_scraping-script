{
 "cells": [
  {
   "cell_type": "code",
   "execution_count": 42,
   "id": "ad6f545b-de22-4cd5-a309-a01b59890c84",
   "metadata": {},
   "outputs": [],
   "source": [
    "import os\n",
    "from dotenv import load_dotenv, find_dotenv\n",
    "import psycopg2\n",
    "from psycopg2 import connect\n",
    "import requests\n",
    "from  bs4 import BeautifulSoup"
   ]
  },
  {
   "cell_type": "code",
   "execution_count": 43,
   "id": "8c1d6ce5-624f-41e0-9ae5-52bab592126b",
   "metadata": {},
   "outputs": [],
   "source": [
    "#Database password in environment variable \n",
    "load_dotenv(find_dotenv())\n",
    "db = os.getenv('DB_PASS')"
   ]
  },
  {
   "cell_type": "code",
   "execution_count": 44,
   "id": "e47f2f1a-fc7f-4f37-9ad7-f64a967cf35b",
   "metadata": {},
   "outputs": [],
   "source": [
    "create_tarantino_table = \"\"\"\n",
    "    CREATE TABLE tarantino_films (\n",
    "        id SERIAL PRIMARY KEY, \n",
    "        Year VARCHAR (10) NOT NULL,\n",
    "        Title VARCHAR (100) NOT NULL,\n",
    "        Distribution VARCHAR (100)\n",
    "        );\n",
    "        \"\"\""
   ]
  },
  {
   "cell_type": "code",
   "execution_count": 45,
   "id": "a602b452-a65a-48ee-8000-93679a9dc348",
   "metadata": {},
   "outputs": [],
   "source": [
    "table_data = \"\"\"\n",
    "    INSERT INTO tarantino_films(Year, Title, Distribution)\n",
    "    VALUES \n",
    "    ('1992', 'Reservoir Dogs', 'Miramax'),\n",
    "    ('1994', 'Pulp Fiction', 'Miramax'),\n",
    "    ('1997', 'Jackie Brown', 'Miramax'),\n",
    "    ('2003', 'Kill Bill: Volume 1', 'Miramax'),\n",
    "    ('2004', 'Kill Bill: Volume 2', 'Miramax'), \n",
    "    ('2007', 'Death Proof', 'Dimension Films'), \n",
    "    ('2009', 'Inglourious Basterds', 'The Weinstein Company / Universal Pictures'), \n",
    "    ('2012', 'Django Unchained', 'The Weinstein Company / Sony Pictures Releasing'), \n",
    "    ('2015', 'The Hateful Eight', 'The Weinstein Company'),\n",
    "    ('2019', 'Once Upon a Time in Hollywood', 'Sony Pictures Releasing');\n",
    "    \"\"\""
   ]
  },
  {
   "cell_type": "code",
   "execution_count": 46,
   "id": "47b02035-57c0-4778-b64a-e82fa5462fa9",
   "metadata": {},
   "outputs": [
    {
     "name": "stdout",
     "output_type": "stream",
     "text": [
      "Successful connection to database\n",
      "Successful table creation\n",
      "Successful Insertion\n",
      "Records inserted\n"
     ]
    }
   ],
   "source": [
    "#Instantiate connection to database \n",
    "try: \n",
    "    connection = psycopg2.connect(db)\n",
    "    cursor = connection.cursor()\n",
    "    print(\"Successful connection to database\")\n",
    "except: \n",
    "    print(f\"Error no connecttion\")\n",
    "\n",
    "#Create table in the database\n",
    "try: \n",
    "    cursor.execute(create_tarantino_table)\n",
    "    print(\"Successful table creation\")\n",
    "except: \n",
    "    print(\"Unsuccessful\")\n",
    "\n",
    "#Insert SQL into database\n",
    "try: \n",
    "    cursor.execute(table_data)\n",
    "    print(\"Successful Insertion\")\n",
    "except: \n",
    "    print(\"Unsuccessful Insertion\")\n",
    "    \n",
    "try: \n",
    "    connection.commit()\n",
    "    print(\"Records inserted\")\n",
    "except:\n",
    "    print(\"Unsuccessful Commit\")\n",
    "\n",
    "connection.close()"
   ]
  },
  {
   "cell_type": "code",
   "execution_count": 47,
   "id": "0e9f7f45-983b-4ff3-bd10-079ec3747aa8",
   "metadata": {},
   "outputs": [],
   "source": [
    "#Retrieving URL content \n",
    "url = \"https://en.wikipedia.org/wiki/Quentin_Tarantino\"\n",
    "page = requests.get(url)\n",
    "\n",
    "soup = BeautifulSoup(page.content,  \"lxml\")"
   ]
  },
  {
   "cell_type": "code",
   "execution_count": 48,
   "id": "1325b17f-4104-4b68-b043-5b401ec85396",
   "metadata": {},
   "outputs": [
    {
     "name": "stdout",
     "output_type": "stream",
     "text": [
      "['Year', 'Title', 'Distribution']\n"
     ]
    }
   ],
   "source": [
    "#Extracting table information \n",
    "table =  soup.find('table', class_=\"wikitable plainrowheaders\")\n",
    "\n",
    "#print table headers\n",
    "headers = []\n",
    "for  col in table.find_all('th',  scope='col'): \n",
    "    title = col.text \n",
    "    headers.append(title.strip())\n",
    "print(headers)"
   ]
  },
  {
   "cell_type": "code",
   "execution_count": 49,
   "id": "ddbbeca9-a6b7-4cd5-88a3-96b94c51d831",
   "metadata": {},
   "outputs": [
    {
     "name": "stdout",
     "output_type": "stream",
     "text": [
      "['1992', '1994', '1997', '2003', '2004', '2007', '2009', '2012', '2015', '2019']\n",
      "\n",
      "['Reservoir Dogs', 'Pulp Fiction', 'Jackie Brown', 'Kill Bill: Volume 1', 'Kill Bill: Volume 2', 'Death Proof', 'Inglourious Basterds', 'Django Unchained', 'The Hateful Eight', 'Once Upon a Time in Hollywood']\n",
      "\n",
      "['Miramax', 'Dimension Films', 'The Weinstein Company / Universal Pictures', 'The Weinstein Company / Sony Pictures Releasing', 'The Weinstein Company', 'Sony Pictures Releasing']\n"
     ]
    }
   ],
   "source": [
    "years = []\n",
    "titles = []\n",
    "distribution = []\n",
    "\n",
    "#Extracting table information \n",
    "for data in table.find_all('tbody'):\n",
    "    row_data = data.find_all('td')\n",
    "    row = [data.text for data in row_data]\n",
    "    \n",
    "    title_data = data.find_all('th', scope='row')\n",
    "    title = [data.text for data in title_data]\n",
    "\n",
    "#Identify result based on length\n",
    "for year in row: \n",
    "    if len(year) < 6: \n",
    "        years.append(year.strip())\n",
    "        \n",
    "for i in row: \n",
    "    if len(i) > 7: \n",
    "        distribution.append(i.strip())\n",
    "        \n",
    "for j in title: \n",
    "    titles.append(j.strip())\n",
    "    \n",
    "print(years)\n",
    "print(\"\")\n",
    "print(titles)\n",
    "print(\"\")\n",
    "print(distribution)\n",
    "    "
   ]
  },
  {
   "cell_type": "code",
   "execution_count": null,
   "id": "3ce88b24-14c8-4f81-9aa1-e6d0ce70eb48",
   "metadata": {},
   "outputs": [],
   "source": []
  }
 ],
 "metadata": {
  "kernelspec": {
   "display_name": "Python 3",
   "language": "python",
   "name": "python3"
  },
  "language_info": {
   "codemirror_mode": {
    "name": "ipython",
    "version": 3
   },
   "file_extension": ".py",
   "mimetype": "text/x-python",
   "name": "python",
   "nbconvert_exporter": "python",
   "pygments_lexer": "ipython3",
   "version": "3.8.8"
  }
 },
 "nbformat": 4,
 "nbformat_minor": 5
}
